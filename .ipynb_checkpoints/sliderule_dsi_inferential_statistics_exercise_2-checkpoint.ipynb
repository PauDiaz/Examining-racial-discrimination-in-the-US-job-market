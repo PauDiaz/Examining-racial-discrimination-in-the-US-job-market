{
 "cells": [
  {
   "cell_type": "markdown",
   "metadata": {},
   "source": [
    "\n",
    "### Examining racial discrimination in the US job market\n",
    "\n",
    "#### Background\n",
    "Racial discrimination continues to be pervasive in cultures throughout the world. Researchers examined the level of racial discrimination in the United States labor market by randomly assigning identical résumés black-sounding or white-sounding names and observing the impact on requests for interviews from employers.\n",
    "\n",
    "#### Data\n",
    "In the dataset provided, each row represents a resume. The 'race' column has two values, 'b' and 'w', indicating black-sounding and white-sounding. The column 'call' has two values, 1 and 0, indicating whether the resume received a call from employers or not.\n",
    "\n",
    "Note that the 'b' and 'w' values in race are assigned randomly to the resumes.\n",
    "\n",
    "#### Exercise\n",
    "You will perform a statistical analysis to establish whether race has a significant impact on the rate of callbacks for resumes.\n",
    "\n",
    "Answer the following questions **in this notebook below and submit to your Github account**. \n",
    "\n",
    "   1. What test is appropriate for this problem? Does CLT apply?\n",
    "   2. What are the null and alternate hypotheses?\n",
    "   3. Compute margin of error, confidence interval, and p-value.\n",
    "   4. Discuss statistical significance.\n",
    "\n",
    "You can include written notes in notebook cells using Markdown: \n",
    "   - In the control panel at the top, choose Cell > Cell Type > Markdown\n",
    "   - Markdown syntax: http://nestacms.com/docs/creating-content/markdown-cheat-sheet\n",
    "\n",
    "\n",
    "#### Resources\n",
    "+ Experiment information and data source: http://www.povertyactionlab.org/evaluation/discrimination-job-market-united-states\n",
    "+ Scipy statistical methods: http://docs.scipy.org/doc/scipy/reference/stats.html \n",
    "+ Markdown syntax: http://nestacms.com/docs/creating-content/markdown-cheat-sheet\n",
    "\n",
    "****"
   ]
  },
  {
   "cell_type": "code",
   "execution_count": 2,
   "metadata": {
    "collapsed": true
   },
   "outputs": [],
   "source": [
    "import pandas as pd\n",
    "import numpy as np\n",
    "from scipy import stats\n",
    "import matplotlib as plt\n",
    "%matplotlib inline"
   ]
  },
  {
   "cell_type": "code",
   "execution_count": 3,
   "metadata": {
    "collapsed": false
   },
   "outputs": [],
   "source": [
    "data = pd.io.stata.read_stata('data/us_job_market_discrimination.dta')"
   ]
  },
  {
   "cell_type": "code",
   "execution_count": 4,
   "metadata": {
    "collapsed": false
   },
   "outputs": [
    {
     "data": {
      "text/plain": [
       "157.0"
      ]
     },
     "execution_count": 4,
     "metadata": {},
     "output_type": "execute_result"
    }
   ],
   "source": [
    "# number of callbacks for balck-sounding names\n",
    "sum(data[data.race=='b'].call)"
   ]
  },
  {
   "cell_type": "markdown",
   "metadata": {},
   "source": [
    "### 1) What test is appropriate for this problem? \n",
    "\n",
    "As the variables are categorical we'll use hypothesis test for comparing two proportions.\n"
   ]
  },
  {
   "cell_type": "markdown",
   "metadata": {},
   "source": [
    "### Does CLT apply?\n",
    "\n",
    "This is an example of a two proportions comparison, then the conditions are a bit different to that normally done for mean comparison. Let's see how they look:\n",
    "\n",
    "* Independence: Sample observations must be independent\n",
    "    * random sample assignment\n",
    "    * if sampling wihtout replacement n<10% of population\n",
    "\n",
    "* Sample size / skew:\n",
    "    * There should be at least **10 successes** and **10 failures** in the sample\n",
    "        * **np>=10**  and **n(1-p)>=10**\n",
    "\n",
    "Yes, it meets the conditions then CLT can be applied.\n",
    "\n",
    "As the first conditon is met, let's focus on the second. To do that we need to know about the population proportion and as we don't have access to this information we use the pooled proportion: \n",
    "\n",
    "\n",
    "$\\hat{p}$<sub>Pool</sub> = $\\frac{\\ Total successes}{\\ total  n} $ = $\\frac{\\ Number successes 1 + Number successes 2}{\\ n1+n2} $ = $\\frac{\\ Number calls w + Number calls b}{\\ n1+n2} $\n",
    "\n"
   ]
  },
  {
   "cell_type": "code",
   "execution_count": 45,
   "metadata": {
    "collapsed": false
   },
   "outputs": [
    {
     "name": "stdout",
     "output_type": "stream",
     "text": [
      "0.0965092402464 0.064476386037\n"
     ]
    }
   ],
   "source": [
    "# First of all separate the resumes by race: b and w.\n",
    "df_white=data[data.race=='w']\n",
    "df_black=data[data.race=='b']\n",
    "\n",
    "#Number of CV per race:\n",
    "w_cvs=len(df_white.race)\n",
    "b_cvs=len(df_black.race)\n",
    "\n",
    "#Number of calls per race:\n",
    "w_calls=sum(data[data.race=='w'].call)\n",
    "b_calls=sum(data[data.race=='b'].call)\n",
    "\n",
    "# Sample proportions:\n",
    "w_sample_p = w_calls / w_cvs\n",
    "b_sample_p = b_calls / b_cvs\n",
    "\n",
    "print w_sample_p,b_sample_p"
   ]
  },
  {
   "cell_type": "code",
   "execution_count": 46,
   "metadata": {
    "collapsed": false
   },
   "outputs": [
    {
     "data": {
      "text/plain": [
       "0.08"
      ]
     },
     "execution_count": 46,
     "metadata": {},
     "output_type": "execute_result"
    }
   ],
   "source": [
    "ppool= round((w_calls+b_calls)/(w_cvs+b_cvs),2)\n",
    "ppool"
   ]
  },
  {
   "cell_type": "code",
   "execution_count": 47,
   "metadata": {
    "collapsed": false
   },
   "outputs": [
    {
     "name": "stdout",
     "output_type": "stream",
     "text": [
      "194.8 2240.2 194.8 2240.2\n"
     ]
    }
   ],
   "source": [
    "# Then let's check if n1p_pool >=10, n1(1-p_pool) >=10:\n",
    "\n",
    "np_w=w_cvs*ppool\n",
    "n1p_w=w_cvs*(1-ppool)\n",
    "\n",
    "# and for n2p_pool >=10, n2(1-p_pool) >=10:\n",
    "np_b=b_cvs*ppool\n",
    "n1p_b=b_cvs*(1-ppool)\n",
    "\n",
    "print np_w,n1p_w, np_b,n1p_b"
   ]
  },
  {
   "cell_type": "markdown",
   "metadata": {},
   "source": [
    "All these values are above 10, then they meet the conditions. "
   ]
  },
  {
   "cell_type": "markdown",
   "metadata": {},
   "source": [
    "### 2) What are the null and alternate hypotheses?\n",
    "\n",
    "* **H<sub>0</sub>**: p<sub>w</sub> = p<sub>b</sub>\n",
    "\n",
    "* **H<sub>L</sub>**: p<sub>w</sub> $\\neq$ p<sub>b</sub>"
   ]
  },
  {
   "cell_type": "markdown",
   "metadata": {},
   "source": [
    "### 3) Compute margin of error, confidence interval, and p-value.\n",
    "\n",
    "* ME = Z<sup>*</sup> · SE<sub>(p<sub>w</sub> - p<sub>b</sub>)</sub>\n",
    "* Z = (p<sub>w</sub> - p<sub>b</sub>) - Null / SE<sub>(p<sub>w</sub> - p<sub>b</sub>)</sub>\n",
    "\n",
    "We are gonna need t-statistics but before that we are going to calculate the sampling distribution:\n",
    "\n",
    "$\\hat{p}$<sub>diff</sub> = $\\hat{p}$<sub>w</sub> - $\\hat{p}$<sub>b</sub> $\\sim$ N(mean = 0, SE $\\hat{p}$<sub>diff</sub>)\n",
    "\n",
    "where:\n",
    "\n",
    "SE $\\hat{p}$<sub>diff</sub> is equal to: \n"
   ]
  },
  {
   "cell_type": "code",
   "execution_count": 30,
   "metadata": {
    "collapsed": false
   },
   "outputs": [
    {
     "data": {
      "text/plain": [
       "0.01"
      ]
     },
     "execution_count": 30,
     "metadata": {},
     "output_type": "execute_result"
    }
   ],
   "source": [
    "# To calculate SE we use the null hypothesis as true. \n",
    "# It means that mean = 0, and SE uses p_pool as population proportion:\n",
    "\n",
    "SE_diff=round((((ppool*(1-ppool))/b_cvs)+((ppool*(1-ppool))/w_cvs))**0.5,2)\n",
    "SE_diff"
   ]
  },
  {
   "cell_type": "markdown",
   "metadata": {},
   "source": [
    "Finally we need the **Z-value** to calculate the ME:\n",
    "    \n",
    "Z-value= $\\hat{p}$<sub>w</sub> - $\\hat{p}$<sub>b</sub> / SE_diff"
   ]
  },
  {
   "cell_type": "code",
   "execution_count": 48,
   "metadata": {
    "collapsed": false
   },
   "outputs": [
    {
     "name": "stdout",
     "output_type": "stream",
     "text": [
      "0.03\n"
     ]
    }
   ],
   "source": [
    "#z-value\n",
    "Zvalue= round((w_sample_p - b_sample_p)/SE_diff,2)\n",
    "#print Zvalue\n",
    "\n",
    "# ME \n",
    "ME=round(Zvalue*SE_diff,2)\n",
    "print ME"
   ]
  },
  {
   "cell_type": "markdown",
   "metadata": {},
   "source": [
    "Then our **MARGINAL ERROR** is z*SE<sub>diff</sub> = 0.03\n",
    "\n",
    "Let's calculate the **CONFIDENT INTERVAL**:"
   ]
  },
  {
   "cell_type": "code",
   "execution_count": 54,
   "metadata": {
    "collapsed": false
   },
   "outputs": [
    {
     "name": "stdout",
     "output_type": "stream",
     "text": [
      " The CONFIDENT INTERVAL IS: ( 0.00203285420945 , 0.0620328542094 )\n"
     ]
    }
   ],
   "source": [
    "#  CI = (estimate point + ME, estimate point - ME)\n",
    "\n",
    "Up_CI= (w_sample_p-b_sample_p)+ME\n",
    "Down_CI= (w_sample_p-b_sample_p)-ME\n",
    "\n",
    "print \" The CONFIDENT INTERVAL IS: (\",Down_CI, \",\", Up_CI,\")\"\n"
   ]
  },
  {
   "cell_type": "markdown",
   "metadata": {},
   "source": [
    "And the p-value is P(Z>3.2) = 0.001 which is fairly 0. \n",
    "\n",
    "**p-value** = 0.1%"
   ]
  },
  {
   "cell_type": "code",
   "execution_count": 57,
   "metadata": {
    "collapsed": false
   },
   "outputs": [],
   "source": [
    "# Z-score= 3.2\n",
    "# using r with the function: pnorm(3.2,lower.tail=FALSE)*2\n",
    "# the result is: 0.001374276"
   ]
  },
  {
   "cell_type": "markdown",
   "metadata": {},
   "source": [
    "### 4) Discuss statistical significance\n",
    "\n",
    "The low value of the p-value indicates that we can reject the H<sub>0</sub> hypothesis. It means that there are differences on how are looked the resumes in functon of the race."
   ]
  },
  {
   "cell_type": "code",
   "execution_count": null,
   "metadata": {
    "collapsed": true
   },
   "outputs": [],
   "source": []
  }
 ],
 "metadata": {
  "kernelspec": {
   "display_name": "Python 2",
   "language": "python",
   "name": "python2"
  },
  "language_info": {
   "codemirror_mode": {
    "name": "ipython",
    "version": 2
   },
   "file_extension": ".py",
   "mimetype": "text/x-python",
   "name": "python",
   "nbconvert_exporter": "python",
   "pygments_lexer": "ipython2",
   "version": "2.7.9"
  }
 },
 "nbformat": 4,
 "nbformat_minor": 0
}
